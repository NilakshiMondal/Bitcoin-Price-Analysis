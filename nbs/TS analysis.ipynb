{
 "cells": [
  {
   "cell_type": "code",
   "execution_count": 22,
   "metadata": {},
   "outputs": [],
   "source": [
    "import pandas as pd\n",
    "import numpy as np \n",
    "import matplotlib.pyplot as plt"
   ]
  },
  {
   "cell_type": "code",
   "execution_count": 462,
   "metadata": {},
   "outputs": [],
   "source": [
    "class TS:\n",
    "    '''\n",
    "    Class that implements the various time series analysis methods as given in FAS and kendall.\n",
    "    '''\n",
    "    def __init__(self, data_loc):\n",
    "        '''\n",
    "        Initializes object with a dataset. Index gets changed to datetime type too. \n",
    "        '''\n",
    "        data = pd.read_csv(data_loc)\n",
    "        data.set_index('dt', inplace= True)\n",
    "        data.index = pd.to_datetime(data.index)\n",
    "        self.data = data\n",
    "    \n",
    "    def set_start_end(self, start, end=None):\n",
    "        '''\n",
    "        If lots of operations are being done to a subset of data, this method can be used to build a subset of data that \n",
    "        can be operated on. Using subset = True in following methods will allow class to use this subset dataset.\n",
    "        '''\n",
    "        if end:\n",
    "            self.sub = self.data.loc[end:start]\n",
    "        else:\n",
    "            self.sub = self.data.loc[:start]\n",
    "        \n",
    "    def plot_data(self, col, start = None, end = None, figsize = (12,6), subset = False):\n",
    "        '''\n",
    "        Plot the data for a particular column(s) with index(datetime) on x-axis.\n",
    "        '''\n",
    "        if subset:\n",
    "            sub = self.sub[col]\n",
    "        else:\n",
    "            if end:\n",
    "                sub = self.data[col].loc[end:start]\n",
    "            else:\n",
    "                sub = self.data[col].loc[:start]\n",
    "        fig, ax = plt.subplots(1,1, figsize = figsize)\n",
    "        sub.plot(ax = ax)\n",
    "    \n",
    "    def trend(self, col, method, subset = False):\n",
    "        '''\n",
    "        Use different methods for trend analysis to get values of trend. Note: Should ideally use matrix methods to solve these \n",
    "        equations.\n",
    "\n",
    "        '''\n",
    "        if subset:\n",
    "            data = self.sub.sort_index()\n",
    "        else:\n",
    "            data = self.data.sort_index()\n",
    "        \n",
    "        data['t'] = data.time - data.time.median()\n",
    "        data = data[[col, 't']]\n",
    "        \n",
    "        sigma_y_t = np.dot(data.t, data[col])\n",
    "        y_bar = data[col].mean()\n",
    "        t_bar = data.t.mean()\n",
    "        n = data.shape[0]\n",
    "        sigma_y_square = np.sum(np.square(data[col]))\n",
    "        sigma_t_square = np.sum(np.square(data.t))\n",
    "        \n",
    "        if method == 'straight line':\n",
    "            b = (sigma_y_t - n*y_bar*t_bar)/(sigma_t_square - n*(t_bar)**2)\n",
    "            a = y_bar - b*t_bar\n",
    "            \n",
    "            data['trend'] = a + b*data.t\n",
    "            self.data['straight_line_trend'] = data['trend'] \n",
    "            if subset:\n",
    "                self.sub['straight_line_trend'] = data['trend']\n",
    "                \n",
    "        elif method == 'parabolic':\n",
    "            sigma_y_t_square = np.dot(np.square(data.t), data[col])\n",
    "            sigma_t_four = np.sum(data.t**4)\n",
    "            sigma_t_cube = np.sum(data.t**3)\n",
    "            \n",
    "            mini_denom = sigma_t_square-n*t_bar**2\n",
    "            num = sigma_y_t_square - y_bar*sigma_t_square + (n*t_bar*y_bar-sigma_y_t)*(sigma_t_cube-t_bar*sigma_t_square)/mini_denom\n",
    "            denom = (-1*sigma_t_square**2)/n + sigma_t_four - (-t_bar*sigma_t_square + sigma_t_cube)*(sigma_t_cube-t_bar*sigma_t_square)/mini_denom\n",
    "            c = num/denom\n",
    "            b = (sigma_y_t-n*y_bar*t_bar-c*(-t_bar*sigma_t_square+sigma_t_cube))/mini_denom\n",
    "            a = y_bar - t_bar - c*sigma_t_square/n\n",
    "            \n",
    "            data['trend'] = a + b*data.t + c*data.t**2\n",
    "            self.data['parabolic_trend'] = data['trend'] \n",
    "            if subset:\n",
    "                self.sub['parabolic_trend'] = data['trend']"
   ]
  },
  {
   "cell_type": "code",
   "execution_count": 463,
   "metadata": {},
   "outputs": [],
   "source": [
    "# loading data\n",
    "ltc = TS(data_loc='../Desktop/TS/ltc.csv')"
   ]
  },
  {
   "cell_type": "code",
   "execution_count": 468,
   "metadata": {},
   "outputs": [],
   "source": [
    "# making a subset of data to work on \n",
    "ltc.set_start_end(start = '2018', end= '2018')"
   ]
  },
  {
   "cell_type": "code",
   "execution_count": 469,
   "metadata": {},
   "outputs": [
    {
     "name": "stderr",
     "output_type": "stream",
     "text": [
      "C:\\Users\\Ishan Nangia\\anaconda3\\lib\\site-packages\\ipykernel_launcher.py:66: SettingWithCopyWarning: \n",
      "A value is trying to be set on a copy of a slice from a DataFrame.\n",
      "Try using .loc[row_indexer,col_indexer] = value instead\n",
      "\n",
      "See the caveats in the documentation: http://pandas.pydata.org/pandas-docs/stable/indexing.html#indexing-view-versus-copy\n",
      "C:\\Users\\Ishan Nangia\\anaconda3\\lib\\site-packages\\ipykernel_launcher.py:83: SettingWithCopyWarning: \n",
      "A value is trying to be set on a copy of a slice from a DataFrame.\n",
      "Try using .loc[row_indexer,col_indexer] = value instead\n",
      "\n",
      "See the caveats in the documentation: http://pandas.pydata.org/pandas-docs/stable/indexing.html#indexing-view-versus-copy\n"
     ]
    }
   ],
   "source": [
    "# calculating trend values\n",
    "trends = ['straight line', 'parabolic']\n",
    "for i in trends :\n",
    "    ltc.trend(col = 'open', method = i, subset = True)"
   ]
  },
  {
   "cell_type": "code",
   "execution_count": 473,
   "metadata": {},
   "outputs": [
    {
     "data": {
      "text/html": [
       "<div>\n",
       "<style scoped>\n",
       "    .dataframe tbody tr th:only-of-type {\n",
       "        vertical-align: middle;\n",
       "    }\n",
       "\n",
       "    .dataframe tbody tr th {\n",
       "        vertical-align: top;\n",
       "    }\n",
       "\n",
       "    .dataframe thead th {\n",
       "        text-align: right;\n",
       "    }\n",
       "</style>\n",
       "<table border=\"1\" class=\"dataframe\">\n",
       "  <thead>\n",
       "    <tr style=\"text-align: right;\">\n",
       "      <th></th>\n",
       "      <th>close</th>\n",
       "      <th>high</th>\n",
       "      <th>low</th>\n",
       "      <th>open</th>\n",
       "      <th>time</th>\n",
       "      <th>volumefrom</th>\n",
       "      <th>volumeto</th>\n",
       "      <th>year</th>\n",
       "      <th>straight_line_trend</th>\n",
       "      <th>parabolic_trend</th>\n",
       "    </tr>\n",
       "    <tr>\n",
       "      <th>dt</th>\n",
       "      <th></th>\n",
       "      <th></th>\n",
       "      <th></th>\n",
       "      <th></th>\n",
       "      <th></th>\n",
       "      <th></th>\n",
       "      <th></th>\n",
       "      <th></th>\n",
       "      <th></th>\n",
       "      <th></th>\n",
       "    </tr>\n",
       "  </thead>\n",
       "  <tbody>\n",
       "    <tr>\n",
       "      <th>2018-12-31 23:00:00+00:00</th>\n",
       "      <td>30.13</td>\n",
       "      <td>30.27</td>\n",
       "      <td>30.00</td>\n",
       "      <td>30.00</td>\n",
       "      <td>1546297200</td>\n",
       "      <td>8639.67</td>\n",
       "      <td>259038.95</td>\n",
       "      <td>2018</td>\n",
       "      <td>6.111230</td>\n",
       "      <td>29.352019</td>\n",
       "    </tr>\n",
       "    <tr>\n",
       "      <th>2018-12-31 22:00:00+00:00</th>\n",
       "      <td>30.00</td>\n",
       "      <td>30.05</td>\n",
       "      <td>29.78</td>\n",
       "      <td>29.84</td>\n",
       "      <td>1546293600</td>\n",
       "      <td>20197.36</td>\n",
       "      <td>600043.65</td>\n",
       "      <td>2018</td>\n",
       "      <td>6.133917</td>\n",
       "      <td>29.358786</td>\n",
       "    </tr>\n",
       "    <tr>\n",
       "      <th>2018-12-31 21:00:00+00:00</th>\n",
       "      <td>29.84</td>\n",
       "      <td>30.26</td>\n",
       "      <td>29.78</td>\n",
       "      <td>30.25</td>\n",
       "      <td>1546290000</td>\n",
       "      <td>18986.06</td>\n",
       "      <td>566425.91</td>\n",
       "      <td>2018</td>\n",
       "      <td>6.156603</td>\n",
       "      <td>29.365557</td>\n",
       "    </tr>\n",
       "    <tr>\n",
       "      <th>2018-12-31 20:00:00+00:00</th>\n",
       "      <td>30.25</td>\n",
       "      <td>30.29</td>\n",
       "      <td>30.05</td>\n",
       "      <td>30.25</td>\n",
       "      <td>1546286400</td>\n",
       "      <td>17627.24</td>\n",
       "      <td>529284.95</td>\n",
       "      <td>2018</td>\n",
       "      <td>6.179290</td>\n",
       "      <td>29.372331</td>\n",
       "    </tr>\n",
       "    <tr>\n",
       "      <th>2018-12-31 19:00:00+00:00</th>\n",
       "      <td>30.25</td>\n",
       "      <td>30.83</td>\n",
       "      <td>29.95</td>\n",
       "      <td>30.79</td>\n",
       "      <td>1546282800</td>\n",
       "      <td>58674.46</td>\n",
       "      <td>1782461.93</td>\n",
       "      <td>2018</td>\n",
       "      <td>6.201977</td>\n",
       "      <td>29.379108</td>\n",
       "    </tr>\n",
       "  </tbody>\n",
       "</table>\n",
       "</div>"
      ],
      "text/plain": [
       "                           close   high    low   open        time  volumefrom  \\\n",
       "dt                                                                              \n",
       "2018-12-31 23:00:00+00:00  30.13  30.27  30.00  30.00  1546297200     8639.67   \n",
       "2018-12-31 22:00:00+00:00  30.00  30.05  29.78  29.84  1546293600    20197.36   \n",
       "2018-12-31 21:00:00+00:00  29.84  30.26  29.78  30.25  1546290000    18986.06   \n",
       "2018-12-31 20:00:00+00:00  30.25  30.29  30.05  30.25  1546286400    17627.24   \n",
       "2018-12-31 19:00:00+00:00  30.25  30.83  29.95  30.79  1546282800    58674.46   \n",
       "\n",
       "                             volumeto  year  straight_line_trend  \\\n",
       "dt                                                                 \n",
       "2018-12-31 23:00:00+00:00   259038.95  2018             6.111230   \n",
       "2018-12-31 22:00:00+00:00   600043.65  2018             6.133917   \n",
       "2018-12-31 21:00:00+00:00   566425.91  2018             6.156603   \n",
       "2018-12-31 20:00:00+00:00   529284.95  2018             6.179290   \n",
       "2018-12-31 19:00:00+00:00  1782461.93  2018             6.201977   \n",
       "\n",
       "                           parabolic_trend  \n",
       "dt                                          \n",
       "2018-12-31 23:00:00+00:00        29.352019  \n",
       "2018-12-31 22:00:00+00:00        29.358786  \n",
       "2018-12-31 21:00:00+00:00        29.365557  \n",
       "2018-12-31 20:00:00+00:00        29.372331  \n",
       "2018-12-31 19:00:00+00:00        29.379108  "
      ]
     },
     "execution_count": 473,
     "metadata": {},
     "output_type": "execute_result"
    }
   ],
   "source": [
    "# checking new dataframe\n",
    "ltc.sub.head()"
   ]
  },
  {
   "cell_type": "code",
   "execution_count": 472,
   "metadata": {},
   "outputs": [
    {
     "name": "stderr",
     "output_type": "stream",
     "text": [
      "C:\\Users\\Ishan Nangia\\anaconda3\\lib\\site-packages\\pandas\\core\\arrays\\datetimes.py:1172: UserWarning: Converting to PeriodArray/Index representation will drop timezone information.\n",
      "  \"will drop timezone information.\", UserWarning)\n"
     ]
    },
    {
     "data": {
      "image/png": "[encoded data removed]",
      "text/plain": [
       "<Figure size 864x432 with 1 Axes>"
      ]
     },
     "metadata": {
      "needs_background": "light"
     },
     "output_type": "display_data"
    }
   ],
   "source": [
    "# plotting trend valueswith actual values\n",
    "ltc.plot_data(col=['straight_line_trend','open', 'parabolic_trend'], subset =True)"
   ]
  },
  {
   "cell_type": "code",
   "execution_count": null,
   "metadata": {},
   "outputs": [],
   "source": []
  },
  {
   "cell_type": "code",
   "execution_count": null,
   "metadata": {},
   "outputs": [],
   "source": []
  },
  {
   "cell_type": "markdown",
   "metadata": {},
   "source": [
    "ROUGH"
   ]
  },
  {
   "cell_type": "code",
   "execution_count": 437,
   "metadata": {},
   "outputs": [],
   "source": [
    "def del_this(data, col):\n",
    "    \n",
    "    sigma_y_t = np.dot(data.t, data[col])\n",
    "    y_bar = data[col].mean()\n",
    "    t_bar = data.t.mean()\n",
    "    n = data.shape[0]\n",
    "    sigma_y_square = np.sum(np.square(data[col]))\n",
    "    sigma_t_square = np.sum(np.square(data.t))\n",
    "    \n",
    "#     sigma_y_t_square = np.dot(np.square(data.t), data[col])\n",
    "#     sigma_t_four = np.sum(data.t**4)\n",
    "#     sigma_t_cube = np.sum(data.t**3)\n",
    "\n",
    "#     mini_denom = sigma_t_square-n*t_bar**2\n",
    "#     num = sigma_y_t_square - y_bar*sigma_t_square + (n*t_bar*y_bar-sigma_y_t)*(sigma_t_cube-t_bar*sigma_t_square)/mini_denom\n",
    "#     denom = (-1*sigma_t_square**2)/n + sigma_t_four - (-t_bar*sigma_t_square + sigma_t_cube)*(sigma_t_cube-t_bar*sigma_t_square)/mini_denom\n",
    "#     c = num/denom\n",
    "#     b = (sigma_y_t-n*y_bar*t_bar-c*(-t_bar*sigma_t_square+sigma_t_cube))/mini_denom\n",
    "#     a = y_bar - t_bar - c*sigma_t_square/n\n",
    "\n",
    "#     data['trend'] = a + b*data.t + c*data.t**2\n",
    "\n",
    "    b = (sigma_y_t - n*y_bar*t_bar)/(sigma_t_square - n*(t_bar)**2)\n",
    "    a = y_bar - b*t_bar\n",
    "            \n",
    "    data['trend'] = a + b*data.t"
   ]
  },
  {
   "cell_type": "code",
   "execution_count": 438,
   "metadata": {},
   "outputs": [],
   "source": [
    "del_data = pd.DataFrame({'year':range(1990,2001,1),'y':[17,20,19,26,24,40,35,55,51,74,79]})"
   ]
  },
  {
   "cell_type": "code",
   "execution_count": 449,
   "metadata": {},
   "outputs": [],
   "source": [
    "del_data['t'] = del_data['year'] "
   ]
  },
  {
   "cell_type": "code",
   "execution_count": 450,
   "metadata": {},
   "outputs": [],
   "source": [
    "del_this(del_data, 'y')"
   ]
  },
  {
   "cell_type": "code",
   "execution_count": 451,
   "metadata": {},
   "outputs": [
    {
     "data": {
      "text/plain": [
       "<matplotlib.axes._subplots.AxesSubplot at 0x144c50d0860>"
      ]
     },
     "execution_count": 451,
     "metadata": {},
     "output_type": "execute_result"
    },
    {
     "data": {
      "image/png": "[encoded data removed]",
      "text/plain": [
       "<Figure size 432x288 with 1 Axes>"
      ]
     },
     "metadata": {
      "needs_background": "light"
     },
     "output_type": "display_data"
    }
   ],
   "source": [
    "del_data.plot(x = 't', y = ['y','trend'])"
   ]
  },
  {
   "cell_type": "code",
   "execution_count": null,
   "metadata": {},
   "outputs": [],
   "source": []
  }
 ],
 "metadata": {
  "kernelspec": {
   "display_name": "Python 3",
   "language": "python",
   "name": "python3"
  },
  "language_info": {
   "codemirror_mode": {
    "name": "ipython",
    "version": 3
   },
   "file_extension": ".py",
   "mimetype": "text/x-python",
   "name": "python",
   "nbconvert_exporter": "python",
   "pygments_lexer": "ipython3",
   "version": "3.7.3"
  }
 },
 "nbformat": 4,
 "nbformat_minor": 2
}
