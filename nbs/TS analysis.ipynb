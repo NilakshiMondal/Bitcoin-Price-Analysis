{
 "cells": [
  {
   "cell_type": "markdown",
   "metadata": {},
   "source": [
    "Notes: \n",
    "1. Clean up trend section\n",
    "2. Make functions for straight line and parabolic as they are getting used again and again"
   ]
  },
  {
   "cell_type": "code",
   "execution_count": 2,
   "metadata": {},
   "outputs": [],
   "source": [
    "import pandas as pd\n",
    "import numpy as np \n",
    "import matplotlib.pyplot as plt"
   ]
  },
  {
   "cell_type": "code",
   "execution_count": 24,
   "metadata": {},
   "outputs": [],
   "source": [
    "class TS:\n",
    "    '''\n",
    "    Class that implements the various time series analysis methods as given in FAS and kendall.\n",
    "    '''\n",
    "    def __init__(self, data_loc):\n",
    "        '''\n",
    "        Initializes object with a dataset. Index gets changed to datetime type too. \n",
    "        '''\n",
    "        data = pd.read_csv(data_loc)\n",
    "        data.set_index('dt', inplace= True)\n",
    "        data.index = pd.to_datetime(data.index)\n",
    "        self.data = data\n",
    "    \n",
    "    def set_start_end(self, start, end=None):\n",
    "        '''\n",
    "        If lots of operations are being done to a subset of data, this method can be used to build a subset of data that \n",
    "        can be operated on. Using subset = True in following methods will allow class to use this subset dataset.\n",
    "        '''\n",
    "        if end:\n",
    "            self.sub = self.data.loc[end:start]\n",
    "        else:\n",
    "            self.sub = self.data.loc[:start]\n",
    "        \n",
    "    def plot_data(self, col, start = None, end = None, figsize = (12,6), subset = False):\n",
    "        '''\n",
    "        Plot the data for a particular column(s) with index(datetime) on x-axis.\n",
    "        '''\n",
    "        if subset:\n",
    "            sub = self.sub[col]\n",
    "        else:\n",
    "            if end:\n",
    "                sub = self.data[col].loc[end:start]\n",
    "            else:\n",
    "                sub = self.data[col].loc[:start]\n",
    "        fig, ax = plt.subplots(1,1, figsize = figsize)\n",
    "        sub.plot(ax = ax)\n",
    "    \n",
    "    def trend(self, col, method, subset = False):\n",
    "        '''\n",
    "        Use different methods for trend analysis to get values of trend. Note: Should ideally use matrix methods to solve these \n",
    "        equations.\n",
    "\n",
    "        '''\n",
    "        if subset:\n",
    "            data = self.sub.sort_index()\n",
    "        else:\n",
    "            data = self.data.sort_index()\n",
    "        \n",
    "        data['t'] = data.time - data.time.median()\n",
    "        data = data[[col, 't']]\n",
    "        \n",
    "        sigma_y_t = np.dot(data.t, data[col])\n",
    "        y_bar = data[col].mean()\n",
    "        t_bar = data.t.mean()\n",
    "        n = data.shape[0]\n",
    "        sigma_y_square = np.sum(np.square(data[col]))\n",
    "        sigma_t_square = np.sum(np.square(data.t))\n",
    "        \n",
    "        if method == 'straight line':\n",
    "            b = (sigma_y_t - n*y_bar*t_bar)/(sigma_t_square - n*(t_bar)**2)\n",
    "            a = y_bar - b*t_bar\n",
    "            \n",
    "            data['trend'] = a + b*data.t\n",
    "            self.data['straight_line_trend'] = data['trend'] \n",
    "            if subset:\n",
    "                self.sub['straight_line_trend'] = data['trend']\n",
    "                \n",
    "        elif method == 'parabolic':\n",
    "            sigma_y_t_square = np.dot(np.square(data.t), data[col])\n",
    "            sigma_t_four = np.sum(data.t**4)\n",
    "            sigma_t_cube = np.sum(data.t**3)\n",
    "            \n",
    "            mini_denom = sigma_t_square-n*t_bar**2\n",
    "            num = sigma_y_t_square - y_bar*sigma_t_square + (n*t_bar*y_bar-sigma_y_t)*(sigma_t_cube-t_bar*sigma_t_square)/mini_denom\n",
    "            denom = (-1*sigma_t_square**2)/n + sigma_t_four - (-t_bar*sigma_t_square + sigma_t_cube)*(sigma_t_cube-t_bar*sigma_t_square)/mini_denom\n",
    "            c = num/denom\n",
    "            b = (sigma_y_t-n*y_bar*t_bar-c*(-t_bar*sigma_t_square+sigma_t_cube))/mini_denom\n",
    "            a = y_bar - b*t_bar - c*sigma_t_square/n\n",
    "            \n",
    "            data['trend'] = a + b*data.t + c*data.t**2\n",
    "            self.data['parabolic_trend'] = data['trend'] \n",
    "            if subset:\n",
    "                self.sub['parabolic_trend'] = data['trend']\n",
    "                \n",
    "        elif method == 'exponential':\n",
    "            data[col] = np.log(data[col])\n",
    "            \n",
    "            sigma_y_t = np.dot(data.t, data[col])\n",
    "            y_bar = data[col].mean()\n",
    "            t_bar = data.t.mean()\n",
    "            n = data.shape[0]\n",
    "            sigma_y_square = np.sum(np.square(data[col]))\n",
    "            sigma_t_square = np.sum(np.square(data.t))\n",
    "            \n",
    "            B = (sigma_y_t - n*y_bar*t_bar)/(sigma_t_square - n*(t_bar)**2)\n",
    "            A = y_bar - B*t_bar\n",
    "            \n",
    "            data['trend'] = np.exp(A + B*data.t)\n",
    "            self.data['exponential_trend'] = data['trend'] \n",
    "            if subset:\n",
    "                self.sub['exponential_trend'] = data['trend']\n",
    "            \n",
    "        elif method == '2_deg_log':\n",
    "            data[col] = np.log(data[col])\n",
    "            \n",
    "            sigma_y_t = np.dot(data.t, data[col])\n",
    "            y_bar = data[col].mean()\n",
    "            t_bar = data.t.mean()\n",
    "            n = data.shape[0]\n",
    "            sigma_y_square = np.sum(np.square(data[col]))\n",
    "            sigma_t_square = np.sum(np.square(data.t))\n",
    "            \n",
    "            sigma_y_t_square = np.dot(np.square(data.t), data[col])\n",
    "            sigma_t_four = np.sum(data.t**4)\n",
    "            sigma_t_cube = np.sum(data.t**3)\n",
    "            \n",
    "            mini_denom = sigma_t_square-n*t_bar**2\n",
    "            num = sigma_y_t_square - y_bar*sigma_t_square + (n*t_bar*y_bar-sigma_y_t)*(sigma_t_cube-t_bar*sigma_t_square)/mini_denom\n",
    "            denom = (-1*sigma_t_square**2)/n + sigma_t_four - (-t_bar*sigma_t_square + sigma_t_cube)*(sigma_t_cube-t_bar*sigma_t_square)/mini_denom\n",
    "            C = num/denom\n",
    "            B = (sigma_y_t-n*y_bar*t_bar-C*(-t_bar*sigma_t_square+sigma_t_cube))/mini_denom\n",
    "            A = y_bar - B*t_bar - C*sigma_t_square/n\n",
    "            \n",
    "            data['trend'] = np.exp(A + B*data.t + C*data.t**2)\n",
    "            self.data['2_deg_log_trend'] = data['trend']\n",
    "            if subset:\n",
    "                self.sub['2_deg_log_trend'] = data['trend']"
   ]
  },
  {
   "cell_type": "code",
   "execution_count": 25,
   "metadata": {},
   "outputs": [],
   "source": [
    "# loading data\n",
    "ltc = TS(data_loc='../Desktop/TS/ltc.csv')"
   ]
  },
  {
   "cell_type": "code",
   "execution_count": 34,
   "metadata": {},
   "outputs": [],
   "source": [
    "# making a subset of data to work on \n",
    "ltc.set_start_end(start = '2019', end= '2019')"
   ]
  },
  {
   "cell_type": "code",
   "execution_count": 35,
   "metadata": {},
   "outputs": [
    {
     "name": "stderr",
     "output_type": "stream",
     "text": [
      "C:\\Users\\Ishan Nangia\\anaconda3\\lib\\site-packages\\ipykernel_launcher.py:66: SettingWithCopyWarning: \n",
      "A value is trying to be set on a copy of a slice from a DataFrame.\n",
      "Try using .loc[row_indexer,col_indexer] = value instead\n",
      "\n",
      "See the caveats in the documentation: http://pandas.pydata.org/pandas-docs/stable/indexing.html#indexing-view-versus-copy\n",
      "C:\\Users\\Ishan Nangia\\anaconda3\\lib\\site-packages\\ipykernel_launcher.py:83: SettingWithCopyWarning: \n",
      "A value is trying to be set on a copy of a slice from a DataFrame.\n",
      "Try using .loc[row_indexer,col_indexer] = value instead\n",
      "\n",
      "See the caveats in the documentation: http://pandas.pydata.org/pandas-docs/stable/indexing.html#indexing-view-versus-copy\n",
      "C:\\Users\\Ishan Nangia\\anaconda3\\lib\\site-packages\\ipykernel_launcher.py:101: SettingWithCopyWarning: \n",
      "A value is trying to be set on a copy of a slice from a DataFrame.\n",
      "Try using .loc[row_indexer,col_indexer] = value instead\n",
      "\n",
      "See the caveats in the documentation: http://pandas.pydata.org/pandas-docs/stable/indexing.html#indexing-view-versus-copy\n",
      "C:\\Users\\Ishan Nangia\\anaconda3\\lib\\site-packages\\ipykernel_launcher.py:127: SettingWithCopyWarning: \n",
      "A value is trying to be set on a copy of a slice from a DataFrame.\n",
      "Try using .loc[row_indexer,col_indexer] = value instead\n",
      "\n",
      "See the caveats in the documentation: http://pandas.pydata.org/pandas-docs/stable/indexing.html#indexing-view-versus-copy\n"
     ]
    }
   ],
   "source": [
    "# calculating trend values\n",
    "trends = ['straight line', 'parabolic','exponential','2_deg_log']\n",
    "for i in trends :\n",
    "    ltc.trend(col = 'open', method = i, subset = True)"
   ]
  },
  {
   "cell_type": "code",
   "execution_count": 36,
   "metadata": {},
   "outputs": [
    {
     "data": {
      "text/html": [
       "<div>\n",
       "<style scoped>\n",
       "    .dataframe tbody tr th:only-of-type {\n",
       "        vertical-align: middle;\n",
       "    }\n",
       "\n",
       "    .dataframe tbody tr th {\n",
       "        vertical-align: top;\n",
       "    }\n",
       "\n",
       "    .dataframe thead th {\n",
       "        text-align: right;\n",
       "    }\n",
       "</style>\n",
       "<table border=\"1\" class=\"dataframe\">\n",
       "  <thead>\n",
       "    <tr style=\"text-align: right;\">\n",
       "      <th></th>\n",
       "      <th>close</th>\n",
       "      <th>high</th>\n",
       "      <th>low</th>\n",
       "      <th>open</th>\n",
       "      <th>time</th>\n",
       "      <th>volumefrom</th>\n",
       "      <th>volumeto</th>\n",
       "      <th>year</th>\n",
       "      <th>straight_line_trend</th>\n",
       "      <th>parabolic_trend</th>\n",
       "      <th>exponential_trend</th>\n",
       "      <th>2_deg_log_trend</th>\n",
       "    </tr>\n",
       "    <tr>\n",
       "      <th>dt</th>\n",
       "      <th></th>\n",
       "      <th></th>\n",
       "      <th></th>\n",
       "      <th></th>\n",
       "      <th></th>\n",
       "      <th></th>\n",
       "      <th></th>\n",
       "      <th></th>\n",
       "      <th></th>\n",
       "      <th></th>\n",
       "      <th></th>\n",
       "      <th></th>\n",
       "    </tr>\n",
       "  </thead>\n",
       "  <tbody>\n",
       "    <tr>\n",
       "      <th>2019-09-07 00:00:00+00:00</th>\n",
       "      <td>65.31</td>\n",
       "      <td>65.49</td>\n",
       "      <td>65.09</td>\n",
       "      <td>65.44</td>\n",
       "      <td>1567814400</td>\n",
       "      <td>2647.04</td>\n",
       "      <td>176114.00</td>\n",
       "      <td>2019</td>\n",
       "      <td>113.276777</td>\n",
       "      <td>80.151806</td>\n",
       "      <td>124.901793</td>\n",
       "      <td>74.498434</td>\n",
       "    </tr>\n",
       "    <tr>\n",
       "      <th>2019-09-06 23:00:00+00:00</th>\n",
       "      <td>65.44</td>\n",
       "      <td>65.52</td>\n",
       "      <td>64.94</td>\n",
       "      <td>65.11</td>\n",
       "      <td>1567810800</td>\n",
       "      <td>4519.61</td>\n",
       "      <td>298207.02</td>\n",
       "      <td>2019</td>\n",
       "      <td>113.264401</td>\n",
       "      <td>80.172688</td>\n",
       "      <td>124.877528</td>\n",
       "      <td>74.522615</td>\n",
       "    </tr>\n",
       "    <tr>\n",
       "      <th>2019-09-06 22:00:00+00:00</th>\n",
       "      <td>65.11</td>\n",
       "      <td>65.51</td>\n",
       "      <td>65.07</td>\n",
       "      <td>65.50</td>\n",
       "      <td>1567807200</td>\n",
       "      <td>5899.30</td>\n",
       "      <td>384453.27</td>\n",
       "      <td>2019</td>\n",
       "      <td>113.252025</td>\n",
       "      <td>80.193559</td>\n",
       "      <td>124.853268</td>\n",
       "      <td>74.546791</td>\n",
       "    </tr>\n",
       "    <tr>\n",
       "      <th>2019-09-06 21:00:00+00:00</th>\n",
       "      <td>65.50</td>\n",
       "      <td>65.50</td>\n",
       "      <td>64.88</td>\n",
       "      <td>65.11</td>\n",
       "      <td>1567803600</td>\n",
       "      <td>6109.94</td>\n",
       "      <td>398098.79</td>\n",
       "      <td>2019</td>\n",
       "      <td>113.239649</td>\n",
       "      <td>80.214419</td>\n",
       "      <td>124.829013</td>\n",
       "      <td>74.570962</td>\n",
       "    </tr>\n",
       "    <tr>\n",
       "      <th>2019-09-06 20:00:00+00:00</th>\n",
       "      <td>65.11</td>\n",
       "      <td>65.34</td>\n",
       "      <td>64.08</td>\n",
       "      <td>65.34</td>\n",
       "      <td>1567800000</td>\n",
       "      <td>30096.39</td>\n",
       "      <td>1943477.44</td>\n",
       "      <td>2019</td>\n",
       "      <td>113.227273</td>\n",
       "      <td>80.235267</td>\n",
       "      <td>124.804762</td>\n",
       "      <td>74.595128</td>\n",
       "    </tr>\n",
       "  </tbody>\n",
       "</table>\n",
       "</div>"
      ],
      "text/plain": [
       "                           close   high    low   open        time  volumefrom  \\\n",
       "dt                                                                              \n",
       "2019-09-07 00:00:00+00:00  65.31  65.49  65.09  65.44  1567814400     2647.04   \n",
       "2019-09-06 23:00:00+00:00  65.44  65.52  64.94  65.11  1567810800     4519.61   \n",
       "2019-09-06 22:00:00+00:00  65.11  65.51  65.07  65.50  1567807200     5899.30   \n",
       "2019-09-06 21:00:00+00:00  65.50  65.50  64.88  65.11  1567803600     6109.94   \n",
       "2019-09-06 20:00:00+00:00  65.11  65.34  64.08  65.34  1567800000    30096.39   \n",
       "\n",
       "                             volumeto  year  straight_line_trend  \\\n",
       "dt                                                                 \n",
       "2019-09-07 00:00:00+00:00   176114.00  2019           113.276777   \n",
       "2019-09-06 23:00:00+00:00   298207.02  2019           113.264401   \n",
       "2019-09-06 22:00:00+00:00   384453.27  2019           113.252025   \n",
       "2019-09-06 21:00:00+00:00   398098.79  2019           113.239649   \n",
       "2019-09-06 20:00:00+00:00  1943477.44  2019           113.227273   \n",
       "\n",
       "                           parabolic_trend  exponential_trend  2_deg_log_trend  \n",
       "dt                                                                              \n",
       "2019-09-07 00:00:00+00:00        80.151806         124.901793        74.498434  \n",
       "2019-09-06 23:00:00+00:00        80.172688         124.877528        74.522615  \n",
       "2019-09-06 22:00:00+00:00        80.193559         124.853268        74.546791  \n",
       "2019-09-06 21:00:00+00:00        80.214419         124.829013        74.570962  \n",
       "2019-09-06 20:00:00+00:00        80.235267         124.804762        74.595128  "
      ]
     },
     "execution_count": 36,
     "metadata": {},
     "output_type": "execute_result"
    }
   ],
   "source": [
    "# checking new dataframe\n",
    "ltc.sub.head()"
   ]
  },
  {
   "cell_type": "code",
   "execution_count": 37,
   "metadata": {},
   "outputs": [
    {
     "name": "stderr",
     "output_type": "stream",
     "text": [
      "C:\\Users\\Ishan Nangia\\anaconda3\\lib\\site-packages\\pandas\\core\\arrays\\datetimes.py:1172: UserWarning: Converting to PeriodArray/Index representation will drop timezone information.\n",
      "  \"will drop timezone information.\", UserWarning)\n"
     ]
    },
    {
     "data": {
      "image/png": "[encoded data removed]",
      "text/plain": [
       "<Figure size 864x432 with 1 Axes>"
      ]
     },
     "metadata": {
      "needs_background": "light"
     },
     "output_type": "display_data"
    }
   ],
   "source": [
    "# plotting trend valueswith actual values\n",
    "ltc.plot_data(col=['straight_line_trend','open', 'parabolic_trend', '2_deg_log_trend', 'exponential_trend'], subset =True)"
   ]
  },
  {
   "cell_type": "code",
   "execution_count": null,
   "metadata": {},
   "outputs": [],
   "source": []
  },
  {
   "cell_type": "code",
   "execution_count": null,
   "metadata": {},
   "outputs": [],
   "source": []
  },
  {
   "cell_type": "markdown",
   "metadata": {},
   "source": [
    "ROUGH"
   ]
  },
  {
   "cell_type": "code",
   "execution_count": 437,
   "metadata": {},
   "outputs": [],
   "source": [
    "def del_this(data, col):\n",
    "    \n",
    "    sigma_y_t = np.dot(data.t, data[col])\n",
    "    y_bar = data[col].mean()\n",
    "    t_bar = data.t.mean()\n",
    "    n = data.shape[0]\n",
    "    sigma_y_square = np.sum(np.square(data[col]))\n",
    "    sigma_t_square = np.sum(np.square(data.t))\n",
    "    \n",
    "#     sigma_y_t_square = np.dot(np.square(data.t), data[col])\n",
    "#     sigma_t_four = np.sum(data.t**4)\n",
    "#     sigma_t_cube = np.sum(data.t**3)\n",
    "\n",
    "#     mini_denom = sigma_t_square-n*t_bar**2\n",
    "#     num = sigma_y_t_square - y_bar*sigma_t_square + (n*t_bar*y_bar-sigma_y_t)*(sigma_t_cube-t_bar*sigma_t_square)/mini_denom\n",
    "#     denom = (-1*sigma_t_square**2)/n + sigma_t_four - (-t_bar*sigma_t_square + sigma_t_cube)*(sigma_t_cube-t_bar*sigma_t_square)/mini_denom\n",
    "#     c = num/denom\n",
    "#     b = (sigma_y_t-n*y_bar*t_bar-c*(-t_bar*sigma_t_square+sigma_t_cube))/mini_denom\n",
    "#     a = y_bar - t_bar - c*sigma_t_square/n\n",
    "\n",
    "#     data['trend'] = a + b*data.t + c*data.t**2\n",
    "\n",
    "    b = (sigma_y_t - n*y_bar*t_bar)/(sigma_t_square - n*(t_bar)**2)\n",
    "    a = y_bar - b*t_bar\n",
    "            \n",
    "    data['trend'] = a + b*data.t"
   ]
  },
  {
   "cell_type": "code",
   "execution_count": 438,
   "metadata": {},
   "outputs": [],
   "source": [
    "del_data = pd.DataFrame({'year':range(1990,2001,1),'y':[17,20,19,26,24,40,35,55,51,74,79]})"
   ]
  },
  {
   "cell_type": "code",
   "execution_count": 449,
   "metadata": {},
   "outputs": [],
   "source": [
    "del_data['t'] = del_data['year'] "
   ]
  },
  {
   "cell_type": "code",
   "execution_count": 450,
   "metadata": {},
   "outputs": [],
   "source": [
    "del_this(del_data, 'y')"
   ]
  },
  {
   "cell_type": "code",
   "execution_count": 451,
   "metadata": {},
   "outputs": [
    {
     "data": {
      "text/plain": [
       "<matplotlib.axes._subplots.AxesSubplot at 0x144c50d0860>"
      ]
     },
     "execution_count": 451,
     "metadata": {},
     "output_type": "execute_result"
    },
    {
     "data": {
      "image/png": "[encoded data removed]",
      "text/plain": [
       "<Figure size 432x288 with 1 Axes>"
      ]
     },
     "metadata": {
      "needs_background": "light"
     },
     "output_type": "display_data"
    }
   ],
   "source": [
    "del_data.plot(x = 't', y = ['y','trend'])"
   ]
  },
  {
   "cell_type": "code",
   "execution_count": null,
   "metadata": {},
   "outputs": [],
   "source": []
  }
 ],
 "metadata": {
  "kernelspec": {
   "display_name": "Python 3",
   "language": "python",
   "name": "python3"
  },
  "language_info": {
   "codemirror_mode": {
    "name": "ipython",
    "version": 3
   },
   "file_extension": ".py",
   "mimetype": "text/x-python",
   "name": "python",
   "nbconvert_exporter": "python",
   "pygments_lexer": "ipython3",
   "version": "3.7.3"
  }
 },
 "nbformat": 4,
 "nbformat_minor": 2
}
