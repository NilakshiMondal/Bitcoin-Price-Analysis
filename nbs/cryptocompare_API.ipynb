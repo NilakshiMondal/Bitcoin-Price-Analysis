{
 "cells": [
  {
   "cell_type": "code",
   "execution_count": 1,
   "metadata": {},
   "outputs": [],
   "source": [
    "import pandas as pd\n",
    "import numpy as np\n",
    "import json\n",
    "import requests\n",
    "from datetime import datetime"
   ]
  },
  {
   "cell_type": "code",
   "execution_count": 16,
   "metadata": {},
   "outputs": [],
   "source": [
    "req = requests.get('https://min-api.cryptocompare.com/data/price?fsym=BTC&tsyms=USD,JPY,EUR')"
   ]
  },
  {
   "cell_type": "code",
   "execution_count": 17,
   "metadata": {},
   "outputs": [
    {
     "data": {
      "text/plain": [
       "200"
      ]
     },
     "execution_count": 17,
     "metadata": {},
     "output_type": "execute_result"
    }
   ],
   "source": [
    "req.status_code"
   ]
  },
  {
   "cell_type": "code",
   "execution_count": 19,
   "metadata": {},
   "outputs": [
    {
     "data": {
      "text/plain": [
       "'{\"USD\":10412.45,\"JPY\":1112032.14,\"EUR\":9420.17}'"
      ]
     },
     "execution_count": 19,
     "metadata": {},
     "output_type": "execute_result"
    }
   ],
   "source": [
    "req.text"
   ]
  },
  {
   "cell_type": "code",
   "execution_count": 22,
   "metadata": {},
   "outputs": [],
   "source": [
    "req_json = req.json()"
   ]
  },
  {
   "cell_type": "code",
   "execution_count": 29,
   "metadata": {},
   "outputs": [
    {
     "data": {
      "text/plain": [
       "{'USD': 10412.45, 'JPY': 1112032.14, 'EUR': 9420.17}"
      ]
     },
     "execution_count": 29,
     "metadata": {},
     "output_type": "execute_result"
    }
   ],
   "source": [
    "req_json"
   ]
  },
  {
   "cell_type": "markdown",
   "metadata": {},
   "source": [
    "**Using Parameters**"
   ]
  },
  {
   "cell_type": "code",
   "execution_count": 2,
   "metadata": {},
   "outputs": [],
   "source": [
    "def return_json(url, params):\n",
    "    req = requests.get(url, params)\n",
    "#     print(\"Status code:\", req.status_code)\n",
    "    req_json = req.json()\n",
    "    return req_json\n",
    "\n",
    "def create_df(original, new_json):\n",
    "    new = pd.DataFrame(new_json['Data'])\n",
    "    new.sort_values('time', ascending= False, inplace = True)\n",
    "    new = pd.concat([original,new], axis = 0)\n",
    "    return new"
   ]
  },
  {
   "cell_type": "code",
   "execution_count": 3,
   "metadata": {},
   "outputs": [],
   "source": [
    "url = 'https://min-api.cryptocompare.com/data/histohour'\n",
    "# url = \"https://min-api.cryptocompare.com/data/v2/histominute\""
   ]
  },
  {
   "cell_type": "code",
   "execution_count": 15,
   "metadata": {},
   "outputs": [],
   "source": [
    "df_btc = pd.DataFrame()\n",
    "df_eth = pd.DataFrame()\n",
    "df_eos = pd.DataFrame()\n",
    "df_ltc = pd.DataFrame()\n",
    "df_xrp = pd.DataFrame()\n",
    "df_dash = pd.DataFrame()"
   ]
  },
  {
   "cell_type": "code",
   "execution_count": 16,
   "metadata": {},
   "outputs": [
    {
     "name": "stdout",
     "output_type": "stream",
     "text": [
      "time taken :  0:00:55.229907\n",
      "time taken :  0:00:49.660096\n",
      "time taken :  0:00:48.109085\n",
      "time taken :  0:00:52.575809\n",
      "time taken :  0:00:50.356469\n",
      "time taken :  0:00:49.067946\n"
     ]
    }
   ],
   "source": [
    "list_of_df = [df_btc, df_eth, df_eos, df_ltc, df_xrp, df_dash]\n",
    "list_of_curr = ['BTC', 'ETH', 'EOS', 'LTC', 'XRP','DASH']\n",
    "for j in range(len(list_of_curr)):\n",
    "    start = datetime.now()\n",
    "    ts = 1567814400\n",
    "    for i in range(50):\n",
    "        params = {'fsym': [list_of_curr[j]], 'tsym':['USD'], 'aggregate':[1],'limit': 2000, 'toTs':ts}\n",
    "        req_json = return_json(url, params)\n",
    "        \n",
    "#         if i==0:\n",
    "#             list_of_df[j] = pd.DataFrame(req_json['Data'])\n",
    "#             list_of_df[j].sort_values('time', ascending= False, inplace = True)\n",
    "#         else:\n",
    "\n",
    "        list_of_df[j] = create_df(list_of_df[j], req_json)\n",
    "\n",
    "        ts = list_of_df[j].time.iloc[-1]\n",
    "    list_of_df[j]['dt'] = list_of_df[j].time.apply(lambda x : pd.Timestamp(x, unit='s', tz = 'GMT'))    \n",
    "    list_of_df[j] = list_of_df[j].drop_duplicates(subset = 'dt')\n",
    "    list_of_df[j]['year'] = list_of_df[j].dt.apply(lambda x: x.year)\n",
    "#     list_of_df[j] = list_of_df[j][list_of_df[j].year > 2014]  \n",
    "    list_of_df[j] = list_of_df[j].reset_index().drop('index', axis =1)\n",
    "    list_of_df[j] = list_of_df[j].set_index('dt')\n",
    "    \n",
    "    print(\"time taken : \", datetime.now()-start)\n",
    "#     list_of_df[j] = list_of_df[j].drop_duplicates(subset = ['close', 'high', 'low', 'open', 'volumefrom', 'volumeto'], keep='first')\n",
    "# #     if (list_of_df[j].dt.shift() - list_of_df[j].dt).nunique() != 1:\n",
    "# #         print(\"Defaulter :\", j)"
   ]
  },
  {
   "cell_type": "code",
   "execution_count": 17,
   "metadata": {},
   "outputs": [],
   "source": [
    "df_btc = list_of_df[0]\n",
    "df_eth = list_of_df[1]\n",
    "df_eos = list_of_df[2]\n",
    "df_ltc = list_of_df[3]\n",
    "df_xrp = list_of_df[4]\n",
    "df_dash = list_of_df[5]"
   ]
  },
  {
   "cell_type": "code",
   "execution_count": 71,
   "metadata": {},
   "outputs": [],
   "source": [
    "# ethereum launch date onwards\n",
    "df_eth = df_eth.loc[:'2015-08-01',:]\n",
    "# btc launch date onwards\n",
    "df_btc = df_btc.loc[:'2010-7', :]\n",
    "# eos launch date onwards\n",
    "df_eos = df_eos.loc[:'2018-01-31', :]\n",
    "# ltc launch date onwards\n",
    "df_ltc = df_ltc.loc[:'2011-10-07', :]\n",
    "# dash launch date onwards\n",
    "df_dash = df_dash.loc[:'2014-01-18', :]\n",
    "# xrp launch date onwards\n",
    "df_xrp = df_xrp.loc[:'2015-01-01', :]"
   ]
  },
  {
   "cell_type": "code",
   "execution_count": 57,
   "metadata": {},
   "outputs": [],
   "source": [
    "df_eth.to_csv('../Desktop/eth.csv')\n",
    "df_eos.to_csv('../Desktop/eos.csv')\n",
    "df_ltc.to_csv('../Desktop/ltc.csv')\n",
    "df_dash.to_csv('../Desktop/dash.csv')\n",
    "df_xrp.to_csv('../Desktop/xrp.csv')\n",
    "df_btc.to_csv('../Desktop/btc.csv')"
   ]
  }
 ],
 "metadata": {
  "kernelspec": {
   "display_name": "Python 3",
   "language": "python",
   "name": "python3"
  },
  "language_info": {
   "codemirror_mode": {
    "name": "ipython",
    "version": 3
   },
   "file_extension": ".py",
   "mimetype": "text/x-python",
   "name": "python",
   "nbconvert_exporter": "python",
   "pygments_lexer": "ipython3",
   "version": "3.7.3"
  }
 },
 "nbformat": 4,
 "nbformat_minor": 2
}
