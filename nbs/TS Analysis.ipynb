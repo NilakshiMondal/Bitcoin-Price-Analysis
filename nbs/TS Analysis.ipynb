{
 "cells": [
  {
   "cell_type": "markdown",
   "metadata": {},
   "source": [
    "Notes: \n",
    "1. Clean up trend section\n",
    "2. Make functions for straight line, parabolic and modified exponential as they are getting used again and again\n",
    "3. All functions using log are giving Nans when y_t = 0 being included. Fix this\n",
    "4. Make function for selecting best value of moving average period\n",
    "5. Add seasonality for different time periods : day, month, year etc. \n",
    "6. Check subset = False : Link relative\n",
    "7. Under cyclic component estimation, see what window for moving average to be used."
   ]
  },
  {
   "cell_type": "code",
   "execution_count": 66,
   "metadata": {},
   "outputs": [],
   "source": [
    "import pandas as pd\n",
    "import numpy as np \n",
    "import matplotlib.pyplot as plt"
   ]
  },
  {
   "cell_type": "code",
   "execution_count": 140,
   "metadata": {},
   "outputs": [],
   "source": [
    "class TS:\n",
    "    '''\n",
    "    Class that implements the various time series analysis methods as given in FAS and kendall.\n",
    "    '''\n",
    "    def __init__(self, data_loc):\n",
    "        '''\n",
    "        Initializes object with a dataset. Index gets changed to datetime type too. \n",
    "        '''\n",
    "        data = pd.read_csv(data_loc)\n",
    "        data.set_index('dt', inplace= True)\n",
    "        data.index = pd.to_datetime(data.index)\n",
    "        self.data = data\n",
    "    \n",
    "    def set_start_end(self, start, end=None):\n",
    "        '''\n",
    "        If lots of operations are being done to a subset of data, this method can be used to build a subset of data that \n",
    "        can be operated on. Using subset = True in following methods will allow class to use this subset dataset.\n",
    "        '''\n",
    "        if end:\n",
    "            self.sub = self.data.loc[end:start].copy()\n",
    "        else:\n",
    "            self.sub = self.data.loc[:start].copy()\n",
    "        \n",
    "    def plot_data(self, col, start = None, end = None, figsize = (12,6), subset = False):\n",
    "        '''\n",
    "        Plot the data for a particular column(s) with index(datetime) on x-axis.\n",
    "        '''\n",
    "        if subset:\n",
    "            sub = self.sub[col]\n",
    "        else:\n",
    "            if end:\n",
    "                sub = self.data[col].loc[end:start]\n",
    "            else:\n",
    "                sub = self.data[col].loc[:start]\n",
    "        fig, ax = plt.subplots(1,1, figsize = figsize)\n",
    "        sub.plot(ax = ax)\n",
    "    \n",
    "    def trend(self, col, method, subset = False, period = 5):\n",
    "        '''\n",
    "        Use different methods for trend analysis to get values of trend. Note: Should ideally use matrix methods to solve these \n",
    "        equations.\n",
    "\n",
    "        '''\n",
    "        if subset:\n",
    "            data = self.sub.sort_index().copy()\n",
    "        else:\n",
    "            data = self.data.sort_index().copy()\n",
    "        \n",
    "        data['t'] = data.time - data.time.median()\n",
    "        data = data[[col, 't']]\n",
    "        \n",
    "        sigma_y_t = np.dot(data.t, data[col])\n",
    "        y_bar = data[col].mean()\n",
    "        t_bar = data.t.mean()\n",
    "        n = data.shape[0]\n",
    "        sigma_y_square = np.sum(np.square(data[col]))\n",
    "        sigma_t_square = np.sum(np.square(data.t))\n",
    "        \n",
    "        if method == 'straight line':\n",
    "            b = (sigma_y_t - n*y_bar*t_bar)/(sigma_t_square - n*(t_bar)**2)\n",
    "            a = y_bar - b*t_bar\n",
    "            \n",
    "            data['trend'] = a + b*data.t\n",
    "            self.data['straight_line_trend'] = data['trend'] \n",
    "            if subset:\n",
    "                self.sub['straight_line_trend'] = data['trend']\n",
    "                \n",
    "        elif method == 'parabolic':\n",
    "            sigma_y_t_square = np.dot(np.square(data.t), data[col])\n",
    "            sigma_t_four = np.sum(data.t**4)\n",
    "            sigma_t_cube = np.sum(data.t**3)\n",
    "            \n",
    "            mini_denom = sigma_t_square-n*t_bar**2\n",
    "            num = sigma_y_t_square - y_bar*sigma_t_square + (n*t_bar*y_bar-sigma_y_t)*(sigma_t_cube-t_bar*sigma_t_square)/mini_denom\n",
    "            denom = (-1*sigma_t_square**2)/n + sigma_t_four - (-t_bar*sigma_t_square + sigma_t_cube)*(sigma_t_cube-t_bar*sigma_t_square)/mini_denom\n",
    "            c = num/denom\n",
    "            b = (sigma_y_t-n*y_bar*t_bar-c*(-t_bar*sigma_t_square+sigma_t_cube))/mini_denom\n",
    "            a = y_bar - b*t_bar - c*sigma_t_square/n\n",
    "            \n",
    "            data['trend'] = a + b*data.t + c*data.t**2\n",
    "            self.data['parabolic_trend'] = data['trend'] \n",
    "            if subset:\n",
    "                self.sub['parabolic_trend'] = data['trend']\n",
    "                \n",
    "        elif method == 'exponential':\n",
    "            data[col] = np.log(data[col])\n",
    "            \n",
    "            sigma_y_t = np.dot(data.t, data[col])\n",
    "            y_bar = data[col].mean()\n",
    "            t_bar = data.t.mean()\n",
    "            n = data.shape[0]\n",
    "            sigma_y_square = np.sum(np.square(data[col]))\n",
    "            sigma_t_square = np.sum(np.square(data.t))\n",
    "            \n",
    "            B = (sigma_y_t - n*y_bar*t_bar)/(sigma_t_square - n*(t_bar)**2)\n",
    "            A = y_bar - B*t_bar\n",
    "            \n",
    "            data['trend'] = np.exp(A + B*data.t)\n",
    "            self.data['exponential_trend'] = data['trend'] \n",
    "            if subset:\n",
    "                self.sub['exponential_trend'] = data['trend']\n",
    "            \n",
    "        elif method == '2_deg_log':\n",
    "            data[col] = np.log(data[col])\n",
    "            \n",
    "            sigma_y_t = np.dot(data.t, data[col])\n",
    "            y_bar = data[col].mean()\n",
    "            t_bar = data.t.mean()\n",
    "            n = data.shape[0]\n",
    "            sigma_y_square = np.sum(np.square(data[col]))\n",
    "            sigma_t_square = np.sum(np.square(data.t))\n",
    "            \n",
    "            sigma_y_t_square = np.dot(np.square(data.t), data[col])\n",
    "            sigma_t_four = np.sum(data.t**4)\n",
    "            sigma_t_cube = np.sum(data.t**3)\n",
    "            \n",
    "            mini_denom = sigma_t_square-n*t_bar**2\n",
    "            num = sigma_y_t_square - y_bar*sigma_t_square + (n*t_bar*y_bar-sigma_y_t)*(sigma_t_cube-t_bar*sigma_t_square)/mini_denom\n",
    "            denom = (-1*sigma_t_square**2)/n + sigma_t_four - (-t_bar*sigma_t_square + sigma_t_cube)*(sigma_t_cube-t_bar*sigma_t_square)/mini_denom\n",
    "            C = num/denom\n",
    "            B = (sigma_y_t-n*y_bar*t_bar-C*(-t_bar*sigma_t_square+sigma_t_cube))/mini_denom\n",
    "            A = y_bar - B*t_bar - C*sigma_t_square/n\n",
    "            \n",
    "            data['trend'] = np.exp(A + B*data.t + C*data.t**2)\n",
    "            self.data['2_deg_log_trend'] = data['trend']\n",
    "            if subset:\n",
    "                self.sub['2_deg_log_trend'] = data['trend']\n",
    "        \n",
    "        elif method=='modified exponential':\n",
    "            # solved using the method of partial sums\n",
    "            \n",
    "            # make sure data can be divided into 3 equal parts\n",
    "            remainder = data.shape[0]%3\n",
    "            n = data.shape[0]-remainder\n",
    "            \n",
    "            cd= int(n/3) # cd = common_divisor because this will be used a lot in the below formulae \n",
    "            data = data.iloc[remainder:]\n",
    "            data['t'] = range(1,n+1)\n",
    "            s1 = data.iloc[:cd][col].sum()\n",
    "            s2 = data.iloc[cd:2*cd][col].sum()\n",
    "            s3 = data.iloc[2*cd:][col].sum()\n",
    "            c = ((s3-s2)/(s2-s1))**(1/cd)\n",
    "            b =  ((c-1)*(s2-s1)**3)/(c*(s3-2*s2+s1)**2)\n",
    "            a = (s1-b*c*(c**cd-1)/(c-1))/cd\n",
    "            \n",
    "            data['trend'] = a + b*(c**data['t'])\n",
    "            self.data['modified_exponential_trend'] = data['trend']\n",
    "            if subset:\n",
    "                self.sub['modified_exponential_trend'] = data['trend']\n",
    "                \n",
    "        elif method == \"gompertz\":\n",
    "            data[col] = np.log(data[col])\n",
    "            # same as above implementation\n",
    "            remainder = data.shape[0]%3\n",
    "            n = data.shape[0]-remainder\n",
    "                            \n",
    "            cd= int(n/3) # cd = common_divisor because this will be used a lot in the below formulae \n",
    "            data = data.iloc[remainder:]\n",
    "            data['t'] = range(1,n+1)\n",
    "            s1 = data.iloc[:cd][col].sum()\n",
    "            s2 = data.iloc[cd:2*cd][col].sum()\n",
    "            s3 = data.iloc[2*cd:][col].sum()\n",
    "            c = ((s3-s2)/(s2-s1))**(1/cd)\n",
    "            b =  ((c-1)*(s2-s1)**3)/(c*(s3-2*s2+s1)**2)\n",
    "            a = (s1-b*c*(c**cd-1)/(c-1))/cd\n",
    "            \n",
    "            data['trend'] = np.exp(a + b*(c**data['t']))\n",
    "            self.data['gompertz_trend'] = data['trend']\n",
    "            if subset:\n",
    "                self.sub['gompertz_trend'] = data['trend']\n",
    "                \n",
    "        elif method == \"ma\":\n",
    "            shift_by = int(-(period-1)/2)\n",
    "            if period%2!=0:\n",
    "                data['trend'] = data[col].rolling(window = period).mean().shift(shift_by)\n",
    "            else:\n",
    "                # centering the moving averages\n",
    "                data['trend'] = data[col].rolling(window = period).mean().shift(shift_by).rolling(window = 2).mean().shift(shift_by)\n",
    "            self.data['ma_trend'] = data['trend']\n",
    "            if subset:\n",
    "                self.sub['ma_trend'] = data['trend']\n",
    "                \n",
    "        elif method== \"logistic\" :\n",
    "            # partial sums implementation\n",
    "            \n",
    "            data[col] = 1/data[col]\n",
    "            remainder = data.shape[0]%3\n",
    "            n = data.shape[0]-remainder\n",
    "                            \n",
    "            cd= int(n/3) # cd = common_divisor because this will be used a lot in the below formulae \n",
    "            data = data.iloc[remainder:]\n",
    "            data['t'] = range(1,n+1)\n",
    "            s1 = data.iloc[:cd][col].sum()\n",
    "            s2 = data.iloc[cd:2*cd][col].sum()\n",
    "            s3 = data.iloc[2*cd:][col].sum()\n",
    "            c = ((s3-s2)/(s2-s1))**(1/cd)\n",
    "            b =  ((c-1)*(s2-s1)**3)/(c*(s3-2*s2+s1)**2)\n",
    "            a = (s1-b*c*(c**cd-1)/(c-1))/cd\n",
    "            \n",
    "            data['trend'] = 1/(a + b*(c**data['t']))\n",
    "            self.data['logistic_trend'] = data['trend']\n",
    "            if subset:\n",
    "                self.sub['logistic_trend'] = data['trend']\n",
    "                \n",
    "    def seasonality(self, col, method, trend, subset = False):\n",
    "        '''\n",
    "        Use different methods for seasonality analysis to get values of estimated seasonality.\n",
    "        '''\n",
    "        if not subset :\n",
    "            data = self.data.copy()\n",
    "        else:\n",
    "            data = self.sub.copy()\n",
    "            \n",
    "        if method == 'ratio to ma':\n",
    "            if 'ma_trend' not in self.data.columns:\n",
    "                return \"Please use ma in trend to make ma_trend first\"\n",
    "            else:\n",
    "                print(\"Warning: Make sure the column being used here and the one with the moving average is the same\")\n",
    "                data[\"seasonality\"] = data[col]/data[\"ma_trend\"] * 100\n",
    "                data[\"hour\"] = data.index.hour\n",
    "                seasonality = data.groupby(\"hour\").median()[\"seasonality\"] \n",
    "                s_sum = seasonality.sum()\n",
    "                self.seasonal = seasonality * 2400/s_sum\n",
    "                \n",
    "        elif method == 'link relative':\n",
    "            # computing link relatives\n",
    "            data['lr'] = data[col]/data[col].shift(-1) * 100\n",
    "            # averaging over hour\n",
    "            data['hour'] = data.index.hour\n",
    "            lr_avg = data.groupby('hour').median()['lr']\n",
    "            # computing chain relatives\n",
    "            cr = 100\n",
    "            saved_val = lr_avg.iloc[0]\n",
    "            lr_avg.iloc[0] = 100\n",
    "            for i in range(1, lr_avg.shape[0]):\n",
    "                lr_avg.iloc[i] = lr_avg.iloc[i] * cr /100\n",
    "                cr = lr_avg.iloc[i]\n",
    "            # computing corrected chain relatives\n",
    "            new_cr = saved_val * cr/100\n",
    "            d = (new_cr-100)/24\n",
    "            lr_avg.iloc[0] = saved_val\n",
    "            for i in range(1, lr_avg.shape[0]):\n",
    "                lr_avg.iloc[i] = lr_avg.iloc[i] - (i*d)\n",
    "            # computing seasonal indices\n",
    "            mean_corrected = lr_avg.mean()\n",
    "            self.seasonal = lr_avg/mean_corrected * 100\n",
    "            self.seasonal.name = 'seasonality'\n",
    "            \n",
    "        elif method == 'simple averages' :   \n",
    "            data['hour'] = data.index.hour\n",
    "            sa_avg= data.groupby('hour').mean()[col]\n",
    "            avg = sa_avg.mean()\n",
    "            self.seasonal = (sa_avg/avg) * 100\n",
    "            self.seasonal.name = 'seasonality'\n",
    "\n",
    "        \n",
    "        elif method == 'ratio to trend' :\n",
    "            data['rt']= (data[col]/ data[trend])*100\n",
    "            data['hour']= data.index.hour\n",
    "            rt_avg= data.groupby('hour').mean()['rt']\n",
    "            sum_ = rt_avg.sum()\n",
    "            self.seasonal = rt_avg * 2400/sum_\n",
    "            self.seasonal.name = 'seasonality'\n",
    "\n",
    "        print(\"---Check self.seasonal---\")    \n",
    "        \n",
    "    def deseasonalize(self, col, subset = False):\n",
    "        '''\n",
    "        Deseasonalize the data according to the seasonality method used when forming self.seasonal.\n",
    "        '''\n",
    "        if not subset:\n",
    "            data = self.data.copy()\n",
    "        else:\n",
    "            data = self.sub.copy()\n",
    "        data['hour'] = data.index.hour\n",
    "        data = data.reset_index()\n",
    "        new = pd.merge(data, self.seasonal.reset_index(), on='hour')\n",
    "        new['deseasonalized_' + col] = new[col]/new['seasonality'] * 100\n",
    "        new= new.sort_values('dt', ascending = False)\n",
    "        new.index = new['dt']\n",
    "        self.data['deseasonalized_' + col] = new['deseasonalized_' + col]\n",
    "        if subset:\n",
    "            self.sub['deseasonalized_' + col] = new['deseasonalized_' + col]\n",
    "    \n",
    "    def cyclic(self, col, trend, method = 'residual', subset=False):\n",
    "        '''\n",
    "        Find out the cyclic component in the data. Warning: Trend and seasonality must be calculated before using residual method.\n",
    "        '''\n",
    "        if method =='residual':\n",
    "            if not subset:\n",
    "                data = self.data.copy()\n",
    "            else:\n",
    "                data = self.sub.copy()\n",
    "            data['cyclic'] = data[col]/(data[trend + '_trend'] * data['deseasonalized_'+ col]) * 10000\n",
    "            \n",
    "            shift_by = -50        \n",
    "            data['cyclic'] = data['cyclic'].rolling(window = 100).mean().shift(shift_by) # to remove the random component\n",
    "            self.data['cyclic'] = data['cyclic']\n",
    "            if subset: \n",
    "                self.sub['cyclic'] = data['cyclic']\n",
    "            print('---Chk self.data/sub for cyclic column---')\n",
    "            "
   ]
  },
  {
   "cell_type": "code",
   "execution_count": 141,
   "metadata": {},
   "outputs": [],
   "source": [
    "# loading data\n",
    "ltc = TS(data_loc= r'../Desktop/TS/ltc.csv')"
   ]
  },
  {
   "cell_type": "code",
   "execution_count": 142,
   "metadata": {},
   "outputs": [],
   "source": [
    "# making a subset of data to work on \n",
    "ltc.set_start_end(start = '2019', end= '2019')"
   ]
  },
  {
   "cell_type": "code",
   "execution_count": 143,
   "metadata": {},
   "outputs": [],
   "source": [
    "# calculating trend values\n",
    "trends = ['straight line', 'parabolic','exponential','2_deg_log', 'modified exponential', 'gompertz','logistic']\n",
    "for i in trends :\n",
    "    ltc.trend(col = 'open', method = i, subset = True)"
   ]
  },
  {
   "cell_type": "code",
   "execution_count": 144,
   "metadata": {},
   "outputs": [],
   "source": [
    "ltc.trend(col = 'open', method = \"ma\", subset = True, period = 100)"
   ]
  },
  {
   "cell_type": "code",
   "execution_count": 145,
   "metadata": {},
   "outputs": [],
   "source": [
    "# checking new dataframe\n",
    "# ltc.data.head()"
   ]
  },
  {
   "cell_type": "code",
   "execution_count": 146,
   "metadata": {},
   "outputs": [],
   "source": [
    "# plotting trend valueswith actual values\n",
    "# ltc.plot_data(col=['straight_line_trend','open', 'parabolic_trend', '2_deg_log_trend', 'exponential_trend'], subset =True)"
   ]
  },
  {
   "cell_type": "code",
   "execution_count": 147,
   "metadata": {},
   "outputs": [],
   "source": [
    "# plotting trend valueswith actual values\n",
    "# ltc.plot_data(col=['modified_exponential_trend','gompertz_trend','logistic_trend' ,'ma_trend','open'], subset =True)"
   ]
  },
  {
   "cell_type": "markdown",
   "metadata": {},
   "source": [
    "## Seasonality"
   ]
  },
  {
   "cell_type": "markdown",
   "metadata": {},
   "source": [
    "Ratio to moving average"
   ]
  },
  {
   "cell_type": "code",
   "execution_count": 148,
   "metadata": {},
   "outputs": [],
   "source": [
    "ltc.trend(col = 'open', method = \"ma\", subset = True, period = 24)"
   ]
  },
  {
   "cell_type": "code",
   "execution_count": 149,
   "metadata": {},
   "outputs": [
    {
     "name": "stdout",
     "output_type": "stream",
     "text": [
      "Warning: Make sure the column being used here and the one with the moving average is the same\n",
      "---Check self.seasonal---\n"
     ]
    }
   ],
   "source": [
    "ltc.seasonality(col = 'open', method = 'ratio to ma',trend= 'ma_trend' ,subset = True)"
   ]
  },
  {
   "cell_type": "code",
   "execution_count": 150,
   "metadata": {},
   "outputs": [],
   "source": [
    "# ltc.seasonal.plot()"
   ]
  },
  {
   "cell_type": "markdown",
   "metadata": {},
   "source": [
    "Link Relative"
   ]
  },
  {
   "cell_type": "code",
   "execution_count": 151,
   "metadata": {},
   "outputs": [
    {
     "name": "stdout",
     "output_type": "stream",
     "text": [
      "---Check self.seasonal---\n"
     ]
    }
   ],
   "source": [
    "ltc.seasonality(col='open', method = 'link relative', trend= None, subset = True)"
   ]
  },
  {
   "cell_type": "code",
   "execution_count": 152,
   "metadata": {},
   "outputs": [],
   "source": [
    "# ltc.seasonal.plot()"
   ]
  },
  {
   "cell_type": "markdown",
   "metadata": {},
   "source": [
    "Method Of Simple Averages"
   ]
  },
  {
   "cell_type": "code",
   "execution_count": 153,
   "metadata": {},
   "outputs": [
    {
     "name": "stdout",
     "output_type": "stream",
     "text": [
      "---Check self.seasonal---\n"
     ]
    }
   ],
   "source": [
    "ltc.seasonality(col = 'open', method = 'simple averages',trend = None, subset = True)"
   ]
  },
  {
   "cell_type": "code",
   "execution_count": 154,
   "metadata": {},
   "outputs": [],
   "source": [
    "# ltc.seasonal.plot()"
   ]
  },
  {
   "cell_type": "markdown",
   "metadata": {},
   "source": [
    "Ratio to trend"
   ]
  },
  {
   "cell_type": "code",
   "execution_count": 155,
   "metadata": {},
   "outputs": [],
   "source": [
    "ltc.trend(col = 'open', method = \"2_deg_log\", subset = True, period = 24)"
   ]
  },
  {
   "cell_type": "code",
   "execution_count": 156,
   "metadata": {},
   "outputs": [
    {
     "name": "stdout",
     "output_type": "stream",
     "text": [
      "---Check self.seasonal---\n"
     ]
    }
   ],
   "source": [
    "ltc.seasonality(col='open', method = 'ratio to trend',trend='2_deg_log_trend', subset = True)"
   ]
  },
  {
   "cell_type": "code",
   "execution_count": 157,
   "metadata": {},
   "outputs": [],
   "source": [
    "# ltc.seasonal.plot()"
   ]
  },
  {
   "cell_type": "markdown",
   "metadata": {},
   "source": [
    "## Deseasonalize"
   ]
  },
  {
   "cell_type": "markdown",
   "metadata": {},
   "source": [
    "Choose method of seasonalize and use method : seasonality to make sure self.seasonal exists. Then use method : deseasonalize to find values of data that represent trend * random component * cyclic component "
   ]
  },
  {
   "cell_type": "code",
   "execution_count": 158,
   "metadata": {},
   "outputs": [
    {
     "name": "stdout",
     "output_type": "stream",
     "text": [
      "---Check self.seasonal---\n"
     ]
    }
   ],
   "source": [
    "ltc.seasonality(col = 'open', method = 'simple averages',trend = None, subset = True)"
   ]
  },
  {
   "cell_type": "code",
   "execution_count": 159,
   "metadata": {},
   "outputs": [],
   "source": [
    "ltc.deseasonalize('open',subset = True)"
   ]
  },
  {
   "cell_type": "code",
   "execution_count": 160,
   "metadata": {},
   "outputs": [],
   "source": [
    "# ltc.sub.head()"
   ]
  },
  {
   "cell_type": "markdown",
   "metadata": {},
   "source": [
    "## Cyclic"
   ]
  },
  {
   "cell_type": "code",
   "execution_count": 161,
   "metadata": {},
   "outputs": [
    {
     "name": "stdout",
     "output_type": "stream",
     "text": [
      "---Chk self.data/sub for cyclic column---\n"
     ]
    }
   ],
   "source": [
    "ltc.cyclic('open', trend = 'straight_line', subset = True)"
   ]
  },
  {
   "cell_type": "code",
   "execution_count": 162,
   "metadata": {},
   "outputs": [
    {
     "name": "stderr",
     "output_type": "stream",
     "text": [
      "C:\\Users\\Ishan Nangia\\anaconda3\\lib\\site-packages\\pandas\\core\\arrays\\datetimes.py:1172: UserWarning: Converting to PeriodArray/Index representation will drop timezone information.\n",
      "  \"will drop timezone information.\", UserWarning)\n"
     ]
    },
    {
     "data": {
      "text/plain": [
       "<matplotlib.axes._subplots.AxesSubplot at 0x196977376d8>"
      ]
     },
     "execution_count": 162,
     "metadata": {},
     "output_type": "execute_result"
    },
    {
     "data": {
      "image/png": "[encoded data removed]",
      "text/plain": [
       "<Figure size 432x288 with 1 Axes>"
      ]
     },
     "metadata": {
      "needs_background": "light"
     },
     "output_type": "display_data"
    }
   ],
   "source": [
    "ltc.sub.cyclic.plot()"
   ]
  },
  {
   "cell_type": "markdown",
   "metadata": {},
   "source": [
    "-----"
   ]
  },
  {
   "cell_type": "markdown",
   "metadata": {},
   "source": [
    "### Rough"
   ]
  }
 ],
 "metadata": {
  "kernelspec": {
   "display_name": "Python 3",
   "language": "python",
   "name": "python3"
  },
  "language_info": {
   "codemirror_mode": {
    "name": "ipython",
    "version": 3
   },
   "file_extension": ".py",
   "mimetype": "text/x-python",
   "name": "python",
   "nbconvert_exporter": "python",
   "pygments_lexer": "ipython3",
   "version": "3.7.3"
  }
 },
 "nbformat": 4,
 "nbformat_minor": 2
}
